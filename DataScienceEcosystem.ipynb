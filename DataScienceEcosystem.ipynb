{
 "cells": [
  {
   "cell_type": "code",
   "execution_count": 2,
   "id": "e49a3bc7-ec2d-4bb1-98d0-f8fdf45dcfc4",
   "metadata": {
    "tags": []
   },
   "outputs": [],
   "source": [
    "# Exercise 2: Create markdown cell with title of the notebook"
   ]
  },
  {
   "cell_type": "markdown",
   "id": "a1fca455-9e66-4c45-8a72-15901aa4238f",
   "metadata": {
    "tags": []
   },
   "source": [
    "# Data Science Tools and Ecosystem"
   ]
  },
  {
   "cell_type": "code",
   "execution_count": 3,
   "id": "7a8c2672-0246-4fb5-9059-bfd95a4c1be5",
   "metadata": {
    "tags": []
   },
   "outputs": [],
   "source": [
    "# Exercise 3: Create a markdown cell for an introduction"
   ]
  },
  {
   "cell_type": "markdown",
   "id": "19be2457-7e7c-442f-aa9c-ba67e29205f1",
   "metadata": {},
   "source": [
    "In this notebook, Data Science Tools and Ecosystem are summarized."
   ]
  },
  {
   "cell_type": "code",
   "execution_count": null,
   "id": "499413e3-0801-4dbd-9967-aad068695160",
   "metadata": {},
   "outputs": [],
   "source": [
    "# Exercise 10 - Insert a markdown cell to list Objectives"
   ]
  },
  {
   "cell_type": "markdown",
   "id": "64385a85-2f4b-44d4-b401-a54a5aec09cb",
   "metadata": {},
   "source": [
    "**Objectives:**\n",
    "\n",
    "- Learn several languages that used by Data scientists\n",
    "- Learn several useful tools that can be adopted in data science job\n",
    "- Handful practices for some tools like Jupyter notebook and R studio\n",
    "\n"
   ]
  },
  {
   "cell_type": "code",
   "execution_count": null,
   "id": "99e5106a-0996-417d-8362-197ce2d02bf6",
   "metadata": {},
   "outputs": [],
   "source": [
    "# Exercise 4 - Create a markdown cell to list data science languages"
   ]
  },
  {
   "cell_type": "markdown",
   "id": "2c5dd598-ebf2-46d0-93c6-7045e18e3d2f",
   "metadata": {},
   "source": [
    "Some of the popular languages that Data Scientists use are:\n",
    "\n",
    "1. Python\n",
    "2. R\n",
    "3. SQL"
   ]
  },
  {
   "cell_type": "code",
   "execution_count": 4,
   "id": "8d384ea5-d741-44bd-b187-92b8c291ece0",
   "metadata": {
    "tags": []
   },
   "outputs": [],
   "source": [
    "# Exercise 5 - Create a markdown cell to list data science libraries"
   ]
  },
  {
   "cell_type": "markdown",
   "id": "baf051cb-4a9d-49dd-a90d-f13b80d9b9fa",
   "metadata": {},
   "source": [
    "Some of the commonly used libraries used by Data Scientists include:\n",
    "1. Numpy\n",
    "2. SQL\n",
    "3. Pandas"
   ]
  },
  {
   "cell_type": "code",
   "execution_count": 5,
   "id": "a58ac9ee-6101-44df-8fe2-816f6c4ee81c",
   "metadata": {
    "tags": []
   },
   "outputs": [],
   "source": [
    "# Exercise 6 - Create a markdown cell with a table of Data Science tools"
   ]
  },
  {
   "cell_type": "markdown",
   "id": "9ecfd34b-0edd-4a56-af29-079e8f727b83",
   "metadata": {},
   "source": [
    "|Data Science Tools|\n",
    "|----|\n",
    "|Jupyer Notebook|\n",
    "|VSstudio|\n",
    "|Rstudio|"
   ]
  },
  {
   "cell_type": "code",
   "execution_count": 6,
   "id": "7bb6e129-0332-4db3-8a5f-2c8ca82f068c",
   "metadata": {
    "tags": []
   },
   "outputs": [],
   "source": [
    "# Exercise 7 - Create a markdown cell introducing arithmetic expression examples"
   ]
  },
  {
   "cell_type": "markdown",
   "id": "04c9eba0-ebc6-4c1e-86a8-5a0bdb74d8ed",
   "metadata": {},
   "source": [
    "### Below are a few examples of evaluating arithmetic expressions in Python"
   ]
  },
  {
   "cell_type": "code",
   "execution_count": 7,
   "id": "92a1d094-8416-49c7-88cf-9df0a373f9fe",
   "metadata": {
    "tags": []
   },
   "outputs": [],
   "source": [
    "# Exercise 8 - Create a code cell to multiply and add numbers"
   ]
  },
  {
   "cell_type": "code",
   "execution_count": 8,
   "id": "7235b95e-0bd8-4f03-b311-3b134b45fd2f",
   "metadata": {
    "tags": []
   },
   "outputs": [],
   "source": [
    "# This a simple arithmetic expression to mutiply then add integers\n",
    "Ans = (3*4)+5"
   ]
  },
  {
   "cell_type": "code",
   "execution_count": 10,
   "id": "6ee58703-8efb-4daf-87cf-b0f0245f49cb",
   "metadata": {
    "tags": []
   },
   "outputs": [
    {
     "name": "stdout",
     "output_type": "stream",
     "text": [
      "17\n"
     ]
    }
   ],
   "source": [
    "print(Ans)"
   ]
  },
  {
   "cell_type": "code",
   "execution_count": null,
   "id": "f0e8a5a5-d5f6-41f0-89f1-40da9d9f1e62",
   "metadata": {},
   "outputs": [],
   "source": [
    "# Exercise 9 - Create a code cell to convert minutes to hours"
   ]
  },
  {
   "cell_type": "code",
   "execution_count": 11,
   "id": "ee19ff4a-0a6a-430d-ba97-6b221f7f146a",
   "metadata": {
    "tags": []
   },
   "outputs": [
    {
     "name": "stdout",
     "output_type": "stream",
     "text": [
      "3.3333333333333335\n"
     ]
    }
   ],
   "source": [
    "# This will convert 200 minutes to hours by diving by 60.\n",
    "\n",
    "Mins = 200\n",
    "Hours = Mins/60\n",
    "print(Hours)"
   ]
  },
  {
   "cell_type": "code",
   "execution_count": null,
   "id": "a779a1e4-564a-4b79-9291-5d1285841e72",
   "metadata": {},
   "outputs": [],
   "source": [
    "# Exercise 11 - Create a markdown cell to indicate the Author's name"
   ]
  },
  {
   "cell_type": "markdown",
   "id": "f7b79d92-4de0-4f0f-bee4-9b4cbfddea69",
   "metadata": {},
   "source": [
    "## Author\n",
    "\n",
    "Shen Chang"
   ]
  },
  {
   "cell_type": "code",
   "execution_count": null,
   "id": "bfbad203-aa58-4c55-9e30-75ed74bb4772",
   "metadata": {},
   "outputs": [],
   "source": []
  }
 ],
 "metadata": {
  "kernelspec": {
   "display_name": "Python",
   "language": "python",
   "name": "conda-env-python-py"
  },
  "language_info": {
   "codemirror_mode": {
    "name": "ipython",
    "version": 3
   },
   "file_extension": ".py",
   "mimetype": "text/x-python",
   "name": "python",
   "nbconvert_exporter": "python",
   "pygments_lexer": "ipython3",
   "version": "3.7.12"
  }
 },
 "nbformat": 4,
 "nbformat_minor": 5
}
